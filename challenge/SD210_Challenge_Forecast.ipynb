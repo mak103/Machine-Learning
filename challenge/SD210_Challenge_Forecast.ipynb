{
 "cells": [
  {
   "cell_type": "markdown",
   "metadata": {
    "colab_type": "text",
    "id": "oOcBPRa8hzx0"
   },
   "source": [
    "# SD210 Machine learning - challenge\n",
    "\n",
    "***ZHANG Bolong, WANG Yuqing, YAN Ming, ZHU Fangda***\n",
    "\n",
    "We run this code on Google Colab\n",
    "\n",
    "---\n",
    "\n",
    "\n",
    "<---------- For more details, please refer to our report ---------->\n",
    "\n",
    "---\n",
    "## Part 2: Return Rate Forecast\n",
    "Build a return forecast template for each product from a shopping cart\n"
   ]
  },
  {
   "cell_type": "markdown",
   "metadata": {
    "colab_type": "text",
    "id": "pX9scx9LvIfU"
   },
   "source": [
    "## Loading data"
   ]
  },
  {
   "cell_type": "code",
   "execution_count": 0,
   "metadata": {
    "colab": {
     "autoexec": {
      "startup": false,
      "wait_interval": 0
     }
    },
    "colab_type": "code",
    "collapsed": true,
    "id": "2EttYzk01uN4"
   },
   "outputs": [],
   "source": [
    "from __future__ import division\n",
    "import os\n",
    "import sys\n",
    "reload(sys)\n",
    "sys.setdefaultencoding(\"utf-8\")\n",
    "import numpy as np\n",
    "import pandas as pd\n",
    "\n",
    "from xgboost import XGBClassifier\n",
    "from lightgbm import LGBMClassifier\n",
    "from sklearn.metrics import roc_auc_score"
   ]
  },
  {
   "cell_type": "code",
   "execution_count": 0,
   "metadata": {
    "colab": {
     "autoexec": {
      "startup": false,
      "wait_interval": 0
     }
    },
    "colab_type": "code",
    "collapsed": true,
    "id": "2O7pdHQd1uQm"
   },
   "outputs": [],
   "source": [
    "# customers = pd.read_csv(\"customers.csv\")\n",
    "# products = pd.read_csv(\"products.csv\")\n",
    "X_train = pd.read_csv(\"X_train.csv\")\n",
    "X_test = pd.read_csv(\"X_test.csv\")\n",
    "y_train = pd.read_csv(\"y_train.csv\")"
   ]
  },
  {
   "cell_type": "markdown",
   "metadata": {
    "colab_type": "text",
    "id": "NpFcL4izpuod"
   },
   "source": [
    "## Feature engineering"
   ]
  },
  {
   "cell_type": "markdown",
   "metadata": {
    "colab_type": "text",
    "id": "IRnMejz_uFRt"
   },
   "source": [
    "### Individual Return Features\n",
    "\n",
    "---\n",
    "\n",
    "This part runs for a long time, we have run it before, and have saved the results as ***customers60.csv*** and ***products60.csv***"
   ]
  },
  {
   "cell_type": "code",
   "execution_count": 0,
   "metadata": {
    "colab": {
     "autoexec": {
      "startup": false,
      "wait_interval": 0
     }
    },
    "colab_type": "code",
    "collapsed": true,
    "id": "JjK_0cnGJgNA"
   },
   "outputs": [],
   "source": [
    "# customers['CReturnTimes'] = 0\n",
    "# customers['COrderTimes'] = 0\n",
    "\n",
    "# products['VReturnTimes'] = 0\n",
    "# products['VOrderTimes'] = 0\n",
    "# products['PCReturnTimes'] = 0\n",
    "# products['PCOrderTimes'] = 0\n",
    "# products['PReturnTimes'] = 0\n",
    "# products['POrderTimes'] = 0\n",
    "# products['BReturnTimes'] = 0\n",
    "# products['BOrderTimes'] = 0\n",
    "\n",
    "# for i in range(600000):\n",
    "#     ReturnBin = y_train.loc[i, 'ReturnQuantityBin']\n",
    "\n",
    "#     Cid = X_train.loc[i, 'CustomerId']\n",
    "#     if Cid in customers['CustomerId'].values:\n",
    "#         customers.loc[customers['CustomerId'] == Cid,\n",
    "#                       'CReturnTimes'] += ReturnBin\n",
    "#         customers.loc[customers['CustomerId'] == Cid, 'COrderTimes'] += 1\n",
    "\n",
    "#     Vid = X_train.loc[i, 'VariantId']\n",
    "#     if Vid in products['VariantId'].values:\n",
    "#         products.loc[products['VariantId'] == Vid, 'VReturnTimes'] += ReturnBin\n",
    "#         products.loc[products['VariantId'] == Vid, 'VOrderTimes'] += 1\n",
    "\n",
    "#         PCid = products.loc[products['VariantId'] == Vid,\n",
    "#                             'ProductColorId'].values[0]\n",
    "#         products.loc[products['ProductColorId'] == PCid,\n",
    "#                      'PCReturnTimes'] += ReturnBin\n",
    "#         products.loc[products['ProductColorId'] == PCid, 'PCOrderTimes'] += 1\n",
    "\n",
    "#         Pid = products.loc[products['VariantId'] == Vid, 'ProductId'].values[0]\n",
    "#         products.loc[products['ProductId'] == Pid, 'PReturnTimes'] += ReturnBin\n",
    "#         products.loc[products['ProductId'] == Pid, 'POrderTimes'] += 1\n",
    "\n",
    "#         Bid = products.loc[products['VariantId'] == Vid, 'BrandId'].values[0]\n",
    "#         products.loc[products['BrandId'] == Bid, 'BReturnTimes'] += ReturnBin\n",
    "#         products.loc[products['BrandId'] == Bid, 'BOrderTimes'] += 1\n",
    "\n",
    "# customers['CReturnRate'] = customers['CReturnTimes'] / \\\n",
    "#                           (customers['COrderTimes'] + 0.1)\n",
    "# products['VReturnRate'] = products['VReturnTimes'] / \\\n",
    "#                           (products['VOrderTimes'] + 0.1)\n",
    "# products['PCReturnRate'] = products['PCReturnTimes'] / \\\n",
    "#                           (products['PCOrderTimes'] + 0.1)\n",
    "# products['PReturnRate'] = products['PReturnTimes'] / \\\n",
    "#                           (products['POrderTimes'] + 0.1)\n",
    "# products['BReturnRate'] = products['BReturnTimes'] / \\\n",
    "#                           (products['BOrderTimes'] + 0.1)\n",
    "\n",
    "# customers.to_csv('customers60.csv', index=False)\n",
    "# products.to_csv('products60.csv', index=False)"
   ]
  },
  {
   "cell_type": "code",
   "execution_count": 0,
   "metadata": {
    "colab": {
     "autoexec": {
      "startup": false,
      "wait_interval": 0
     }
    },
    "colab_type": "code",
    "collapsed": true,
    "id": "qCVmkz1NfwgS"
   },
   "outputs": [],
   "source": [
    "customers = pd.read_csv(\"customers60.csv\")\n",
    "products = pd.read_csv(\"products60.csv\")"
   ]
  },
  {
   "cell_type": "markdown",
   "metadata": {
    "colab_type": "text",
    "id": "TFP2_yb4pBDE"
   },
   "source": [
    "### Customer Features"
   ]
  },
  {
   "cell_type": "code",
   "execution_count": 5,
   "metadata": {
    "colab": {
     "autoexec": {
      "startup": false,
      "wait_interval": 0
     },
     "base_uri": "https://localhost:8080/",
     "height": 78
    },
    "colab_type": "code",
    "executionInfo": {
     "elapsed": 466,
     "status": "ok",
     "timestamp": 1524324932938,
     "user": {
      "displayName": "Bolong ZHANG",
      "photoUrl": "https://lh3.googleusercontent.com/a/default-user=s128",
      "userId": "117614611668132440027"
     },
     "user_tz": -120
    },
    "id": "jXZE4fkVoWcK",
    "outputId": "de38680a-c37e-4cdb-c6de-c7524bbe79ae"
   },
   "outputs": [
    {
     "data": {
      "text/html": [
       "<div>\n",
       "<style scoped>\n",
       "    .dataframe tbody tr th:only-of-type {\n",
       "        vertical-align: middle;\n",
       "    }\n",
       "\n",
       "    .dataframe tbody tr th {\n",
       "        vertical-align: top;\n",
       "    }\n",
       "\n",
       "    .dataframe thead th {\n",
       "        text-align: right;\n",
       "    }\n",
       "</style>\n",
       "<table border=\"1\" class=\"dataframe\">\n",
       "  <thead>\n",
       "    <tr style=\"text-align: right;\">\n",
       "      <th></th>\n",
       "      <th>CustomerId</th>\n",
       "      <th>CountryISOCode</th>\n",
       "      <th>BirthDate</th>\n",
       "      <th>Gender</th>\n",
       "      <th>FirstOrderDate</th>\n",
       "      <th>CReturnTimes</th>\n",
       "      <th>COrderTimes</th>\n",
       "      <th>CReturnRate</th>\n",
       "    </tr>\n",
       "  </thead>\n",
       "  <tbody>\n",
       "    <tr>\n",
       "      <th>578916</th>\n",
       "      <td>12568532.0</td>\n",
       "      <td>FR</td>\n",
       "      <td>4958-02-12 00:00:00</td>\n",
       "      <td>Femme</td>\n",
       "      <td>2011-12-09 15:19:37</td>\n",
       "      <td>0.0</td>\n",
       "      <td>1</td>\n",
       "      <td>0.0</td>\n",
       "    </tr>\n",
       "  </tbody>\n",
       "</table>\n",
       "</div>"
      ],
      "text/plain": [
       "        CustomerId CountryISOCode            BirthDate Gender  \\\n",
       "578916  12568532.0             FR  4958-02-12 00:00:00  Femme   \n",
       "\n",
       "             FirstOrderDate  CReturnTimes  COrderTimes  CReturnRate  \n",
       "578916  2011-12-09 15:19:37           0.0            1          0.0  "
      ]
     },
     "execution_count": 5,
     "metadata": {
      "tags": []
     },
     "output_type": "execute_result"
    }
   ],
   "source": [
    "customers[customers['BirthDate'] == \"4958-02-12 00:00:00\"]"
   ]
  },
  {
   "cell_type": "code",
   "execution_count": 0,
   "metadata": {
    "colab": {
     "autoexec": {
      "startup": false,
      "wait_interval": 0
     }
    },
    "colab_type": "code",
    "collapsed": true,
    "id": "nfIwU5tXhfZN"
   },
   "outputs": [],
   "source": [
    "customers.loc[578916, 'BirthDate'] = \"1958-02-12 00:00:00\"\n",
    "\n",
    "customers['IsMale'] = np.where(customers['Gender'] == 'Homme', 1, 0)\n",
    "\n",
    "customers['FirstOrderTime'] = (\n",
    "    pd.to_datetime(customers['FirstOrderDate']) -\n",
    "    pd.to_datetime(\"2005-09-01 00:00:00\")).astype('timedelta64[M]')\n",
    "\n",
    "customers['FirstOrderHour'] = pd.to_datetime(\n",
    "    customers['FirstOrderDate']).dt.hour\n",
    "customers['FirstOrderDay'] = pd.to_datetime(\n",
    "    customers['FirstOrderDate']).dt.day\n",
    "customers['FirstOrderWeekday'] = pd.to_datetime(\n",
    "    customers['FirstOrderDate']).dt.weekday\n",
    "customers['FirstOrderMonth'] = pd.to_datetime(\n",
    "    customers['FirstOrderDate']).dt.month"
   ]
  },
  {
   "cell_type": "markdown",
   "metadata": {
    "colab_type": "text",
    "id": "U-Eye04PpKdD"
   },
   "source": [
    "### Product Features"
   ]
  },
  {
   "cell_type": "code",
   "execution_count": 0,
   "metadata": {
    "colab": {
     "autoexec": {
      "startup": false,
      "wait_interval": 0
     }
    },
    "colab_type": "code",
    "collapsed": true,
    "id": "3ThEiHDPsn5K"
   },
   "outputs": [],
   "source": [
    "products.rename(columns={'SeasonLabel': 'ProductSeasonLabel'}, inplace=True)"
   ]
  },
  {
   "cell_type": "code",
   "execution_count": 0,
   "metadata": {
    "colab": {
     "autoexec": {
      "startup": false,
      "wait_interval": 0
     }
    },
    "colab_type": "code",
    "collapsed": true,
    "id": "MTGYVupesn5O"
   },
   "outputs": [],
   "source": [
    "products['IsProductSeasonAH'] = np.where(\n",
    "    products['ProductSeasonLabel'] == 'Automne/Hiver', 1, 0)\n",
    "\n",
    "products['IsRemovableSole'] = np.where(products['RemovableSole'], 1, 0)\n",
    "\n",
    "products['ProductGender'] = products['GenderLabel']\n",
    "products.loc[(products['GenderLabel'] == 'Sacs') |\n",
    "             (products['GenderLabel'] == 'Accessoires'),\n",
    "             'ProductGender'] = 'Not shoes'"
   ]
  },
  {
   "cell_type": "code",
   "execution_count": 0,
   "metadata": {
    "colab": {
     "autoexec": {
      "startup": false,
      "wait_interval": 0
     }
    },
    "colab_type": "code",
    "collapsed": true,
    "id": "BcxAUW-Oh9gU"
   },
   "outputs": [],
   "source": [
    "products['BrandUniverse'] = products['UniverseLabel']\n",
    "products.loc[(products['UniverseLabel'] != 'DÃ©tente') &\n",
    "             (products['UniverseLabel'] != 'Ville') &\n",
    "             (products['UniverseLabel'] != 'ND'),\n",
    "             'BrandUniverse'] = 'Other'\n",
    "\n",
    "products['BrandType'] = products['TypeBrand']\n",
    "products.loc[(products['TypeBrand'] == 'Super Luxe'), 'BrandType'] = 'Luxe'\n",
    "\n",
    "products['TypeProduct'] = products['ProductType']\n",
    "products.loc[(products['ProductType'] != 'Baskets') &\n",
    "             (products['ProductType'] != 'Sandales et nu-pieds') &\n",
    "             (products['ProductType'] != 'Bottines et boots') &\n",
    "             (products['ProductType'] != 'Ballerines') &\n",
    "             (products['ProductType'] != 'Escarpins') &\n",
    "             (products['ProductType'] != 'Chaussures Ã  lacets') &\n",
    "             (products['ProductType'] != 'Chaussures de sport') &\n",
    "             (products['ProductType'] != 'Bottes') &\n",
    "             (products['ProductType'] != 'Tongs') &\n",
    "             (products['ProductType'] != 'Mocassins'),\n",
    "             'TypeProduct'] = 'Other'\n",
    "\n",
    "products['IsBlack'] = np.where((products['SupplierColor'] == 'Black') |\n",
    "                               (products['SupplierColor'] == 'Noir') |\n",
    "                               (products['SupplierColor'] == 'Black leather') |\n",
    "                               (products['SupplierColor'] == 'Negro') |\n",
    "                               (products['SupplierColor'] == 'Anthracite') |\n",
    "                               (products['SupplierColor'] == 'Nero') |\n",
    "                               (products['SupplierColor'] == 'Schwarz') |\n",
    "                               (products['SupplierColor'] == 'Black Suede') |\n",
    "                               (products['SupplierColor'] == 'Noir (8)') |\n",
    "                               (products['SupplierColor'] == 'Nero black') |\n",
    "                               (products['SupplierColor'] == 'Vernis noir') |\n",
    "                               (products['SupplierColor'] == 'Cuir noir') |\n",
    "                               (products['SupplierColor'] == 'Black Patent') |\n",
    "                               (products['SupplierColor'] == 'coal'),\n",
    "                               1, 0)\n",
    "\n",
    "products['Subtype'] = products['SubtypeLabel']\n",
    "products.loc[(products['SubtypeLabel'] != 'Bout rond') &\n",
    "             (products['SubtypeLabel'] != 'Basses') &\n",
    "             (products['SubtypeLabel'] != np.nan),\n",
    "             'Subtype'] = 'Other'\n",
    "\n",
    "products.loc[(products['SizeAdviceDescription'] ==\n",
    "              'Prenez votre pointure habituelle') |\n",
    "             (products['SizeAdviceDescription'] ==\n",
    "              'Ce modÃ¨le chausse normalement'),\n",
    "             'Description'] = 'size normal'\n",
    "products.loc[(products['SizeAdviceDescription'] ==\n",
    "              'Prenez une taille en dessous de votre pointure habituelle') |\n",
    "             (products['SizeAdviceDescription'] ==\n",
    "              'ModÃ¨le confortable, convient aux pieds larges') |\n",
    "             (products['SizeAdviceDescription'] ==\n",
    "              'Prenez une taille en dessous de sa pointure !') |\n",
    "             (products['SizeAdviceDescription'] ==\n",
    "              'Chaussant gÃ©nÃ©reux. Si vous Ãªtes habituellement entre deux pointures, nous vous conseillons de choisir une demi taille en dessous de votre pointure habituelle.') |\n",
    "             (products['SizeAdviceDescription'] ==\n",
    "              'Chaussant gÃ©nÃ©reux. Nous vous conseillons de commander votre pointure habituelle et d\\'ajouter Ã©ventuellement une demi-semelle.') |\n",
    "             (products['SizeAdviceDescription'] ==\n",
    "              'Chaussant trÃ¨s confortable, convient aux pieds trÃ¨s larges et/ou trÃ¨s sensibles.') |\n",
    "             (products['SizeAdviceDescription'] ==\n",
    "              'Chaussant particuliÃ¨rement gÃ©nÃ©reux. Nous vous conseillons de choisir deux tailles en dessous de votre pointure habituelle.'),\n",
    "             'Description'] = 'size large'\n",
    "products.loc[(products['SizeAdviceDescription'] ==\n",
    "              'Prenez une taille au-dessus de votre pointure habituelle') |\n",
    "             (products['SizeAdviceDescription'] ==\n",
    "              'ModÃ¨le Ã©troit, convient aux pieds fins') |\n",
    "             (products['SizeAdviceDescription'] ==\n",
    "              'Prenez une taille au-dessus de sa pointure !') |\n",
    "             (products['SizeAdviceDescription'] ==\n",
    "              'Chaussant petit. Si vous Ãªtes habituellement entre deux pointures, nous vous conseillons de choisir une demi taille au-dessus de votre pointure habituelle.') |\n",
    "             (products['SizeAdviceDescription'] ==\n",
    "              'Chaussant petit. Nous vous conseillons de commander une pointure au-dessus de votre pointure habituelle et d\\'ajouter Ã©ventuellement une demi-semelle.') |\n",
    "             (products['SizeAdviceDescription'] ==\n",
    "              'Chaussant particuliÃ¨rement petit. Nous vous conseillons de choisir deux pointures au-dessus de votre pointure habituelle.'),\n",
    "             'Description'] = 'size small'"
   ]
  },
  {
   "cell_type": "code",
   "execution_count": 0,
   "metadata": {
    "colab": {
     "autoexec": {
      "startup": false,
      "wait_interval": 0
     }
    },
    "colab_type": "code",
    "collapsed": true,
    "id": "ZlYF0c0Rsn5S"
   },
   "outputs": [],
   "source": [
    "products['ShoesSizeMax'] = np.where((products['ProductGender'] != 'Not shoes') &\n",
    "                                    (products['MaxSize'] < 60),\n",
    "                                    products['MaxSize'], np.nan)\n",
    "\n",
    "products['ShoesSizeMin'] = np.where((products['ProductGender'] != 'Not shoes') &\n",
    "                                    (products['MaxSize'] < 60),\n",
    "                                    products['MinSize'], np.nan)"
   ]
  },
  {
   "cell_type": "markdown",
   "metadata": {
    "colab_type": "text",
    "id": "Ts6PFxYVpPX7"
   },
   "source": [
    "### Merge"
   ]
  },
  {
   "cell_type": "code",
   "execution_count": 0,
   "metadata": {
    "colab": {
     "autoexec": {
      "startup": false,
      "wait_interval": 0
     }
    },
    "colab_type": "code",
    "collapsed": true,
    "id": "67T7Ulr91uYf"
   },
   "outputs": [],
   "source": [
    "X_trainNew = pd.merge(X_train, customers, how='left', on='CustomerId')\n",
    "X_trainNew = pd.merge(X_trainNew, products, how='left', on='VariantId')\n",
    "X_testNew = pd.merge(X_test, customers, how='left', on='CustomerId')\n",
    "X_testNew = pd.merge(X_testNew, products, how='left', on='VariantId')"
   ]
  },
  {
   "cell_type": "markdown",
   "metadata": {
    "colab_type": "text",
    "id": "880_GjtqpR-j"
   },
   "source": [
    "### New Train and Test Features"
   ]
  },
  {
   "cell_type": "code",
   "execution_count": 0,
   "metadata": {
    "colab": {
     "autoexec": {
      "startup": false,
      "wait_interval": 0
     }
    },
    "colab_type": "code",
    "collapsed": true,
    "id": "tYSBEmhisn5c"
   },
   "outputs": [],
   "source": [
    "g = lambda x: x.replace(\",\",\".\")\n",
    "X_trainNew.UnitPMPEUR = map(np.float64,(map(g,X_trainNew.UnitPMPEUR)))\n",
    "X_testNew.UnitPMPEUR = map(np.float64,(map(g,X_testNew.UnitPMPEUR)))"
   ]
  },
  {
   "cell_type": "code",
   "execution_count": 0,
   "metadata": {
    "colab": {
     "autoexec": {
      "startup": false,
      "wait_interval": 0
     }
    },
    "colab_type": "code",
    "collapsed": true,
    "id": "WnX4lSTlsn5e"
   },
   "outputs": [],
   "source": [
    "X_trainNew['IsOrderDirect'] = np.where(\n",
    "    X_trainNew['OrderTypelabel'] == 'DIRECT', 1, 0)\n",
    "X_testNew['IsOrderDirect'] = np.where(\n",
    "    X_testNew['OrderTypelabel'] == 'DIRECT', 1, 0)\n",
    "\n",
    "X_trainNew['IsNouveau'] = np.where(\n",
    "    X_trainNew['CustomerTypeLabel'] == 'Nouveau', 1, 0)\n",
    "X_testNew['IsNouveau'] = np.where(\n",
    "    X_testNew['CustomerTypeLabel'] == 'Nouveau', 1, 0)\n",
    "\n",
    "X_trainNew['IsSeasonAH'] = np.where(\n",
    "    X_trainNew['SeasonLabel'] == 'Automne/Hiver', 1, 0)\n",
    "X_testNew['IsSeasonAH'] = np.where(\n",
    "    X_testNew['SeasonLabel'] == 'Automne/Hiver', 1, 0)"
   ]
  },
  {
   "cell_type": "code",
   "execution_count": 0,
   "metadata": {
    "colab": {
     "autoexec": {
      "startup": false,
      "wait_interval": 0
     }
    },
    "colab_type": "code",
    "collapsed": true,
    "id": "ySRChK4n1uc-"
   },
   "outputs": [],
   "source": [
    "X_trainNew['PayementMode'] = X_trainNew['PayementModeLabel']\n",
    "X_trainNew.loc[(X_trainNew['PayementModeLabel'] != 'Carte bancaire') &\n",
    "               (X_trainNew['PayementModeLabel'] != 'PayPal') &\n",
    "               (X_trainNew['PayementModeLabel'] != 'Klarna_Invoice') &\n",
    "               (X_trainNew['PayementModeLabel'] != 'iDeal') &\n",
    "               (X_trainNew['PayementModeLabel'] != 'BankTransfer_DE') &\n",
    "               (X_trainNew['PayementModeLabel'] != 'Gratuit'),\n",
    "               'PayementMode'] = 'Other'\n",
    "X_testNew['PayementMode'] = X_testNew['PayementModeLabel']\n",
    "X_testNew.loc[(X_testNew['PayementModeLabel'] != 'Carte bancaire') &\n",
    "              (X_testNew['PayementModeLabel'] != 'PayPal') &\n",
    "              (X_testNew['PayementModeLabel'] != 'Klarna_Invoice') &\n",
    "              (X_testNew['PayementModeLabel'] != 'iDeal') &\n",
    "              (X_trainNew['PayementModeLabel'] != 'BankTransfer_DE') &\n",
    "              (X_testNew['PayementModeLabel'] != 'Gratuit'),\n",
    "              'PayementMode'] = 'Other'\n",
    "\n",
    "X_trainNew['Country'] = X_trainNew['IsoCode']\n",
    "X_trainNew.loc[(X_trainNew['IsoCode'] != 'FR') &\n",
    "               (X_trainNew['IsoCode'] != 'DE') &\n",
    "               (X_trainNew['IsoCode'] != 'BE') &\n",
    "               (X_trainNew['IsoCode'] != 'NL') &\n",
    "               (X_trainNew['IsoCode'] != 'GB') &\n",
    "               (X_trainNew['IsoCode'] != 'ES') &\n",
    "               (X_trainNew['IsoCode'] != 'IT'),\n",
    "               'Country'] = 'Other'\n",
    "X_testNew['Country'] = X_testNew['IsoCode']\n",
    "X_testNew.loc[(X_testNew['IsoCode'] != 'FR') &\n",
    "              (X_testNew['IsoCode'] != 'DE') &\n",
    "              (X_testNew['IsoCode'] != 'BE') &\n",
    "              (X_testNew['IsoCode'] != 'NL') &\n",
    "              (X_testNew['IsoCode'] != 'GB') &\n",
    "              (X_testNew['IsoCode'] != 'ES') &\n",
    "              (X_testNew['IsoCode'] != 'IT'),\n",
    "              'Country'] = 'Other'\n",
    "\n",
    "X_trainNew['DeviceType'] = X_trainNew['DeviceTypeLabel']\n",
    "X_trainNew.loc[(X_trainNew['DeviceTypeLabel'] != 'ND') &\n",
    "               (X_trainNew['DeviceTypeLabel'] != 'Desktop'),\n",
    "               'DeviceType'] = 'Handheld'\n",
    "X_testNew['DeviceType'] = X_testNew['DeviceTypeLabel']\n",
    "X_testNew.loc[(X_testNew['DeviceTypeLabel'] != 'ND') &\n",
    "              (X_testNew['DeviceTypeLabel'] != 'Desktop'),\n",
    "              'DeviceType'] = 'Handheld'\n",
    "\n",
    "X_trainNew['IsDeviceND'] = np.where(\n",
    "    X_trainNew['DeviceTypeLabel'] == 'ND', 1, 0)\n",
    "X_testNew['IsDeviceND'] = np.where(\n",
    "    X_testNew['DeviceTypeLabel'] == 'ND', 1, 0)"
   ]
  },
  {
   "cell_type": "code",
   "execution_count": 0,
   "metadata": {
    "colab": {
     "autoexec": {
      "startup": false,
      "wait_interval": 0
     }
    },
    "colab_type": "code",
    "collapsed": true,
    "id": "ynYWP8hFsn5i"
   },
   "outputs": [],
   "source": [
    "X_trainNew['IsProductNull'] = np.where(\n",
    "    pd.isnull(X_trainNew['GenderLabel']), 1, 0)\n",
    "X_testNew['IsProductNull'] = np.where(\n",
    "    pd.isnull(X_testNew['GenderLabel']), 1, 0)\n",
    "\n",
    "X_trainNew['IsCustomerNull'] = np.where(pd.isnull(X_trainNew['Gender']), 1, 0)\n",
    "X_testNew['IsCustomerNull'] = np.where(pd.isnull(X_testNew['Gender']), 1, 0)\n",
    "\n",
    "X_trainNew['IsCalfTurnNull'] = np.where(\n",
    "    pd.isnull(X_trainNew['CalfTurn']), 1, 0)\n",
    "X_testNew['IsCalfTurnNull'] = np.where(pd.isnull(X_testNew['CalfTurn']), 1, 0)\n",
    "\n",
    "X_trainNew['IsUpperHeightNull'] = np.where(\n",
    "    pd.isnull(X_trainNew['UpperHeight']), 1, 0)\n",
    "X_testNew['IsUpperHeightNull'] = np.where(\n",
    "    pd.isnull(X_testNew['UpperHeight']), 1, 0)\n",
    "\n",
    "X_trainNew['IsHeelHeightNull'] = np.where(\n",
    "    pd.isnull(X_trainNew['HeelHeight']), 1, 0)\n",
    "X_testNew['IsHeelHeightNull'] = np.where(\n",
    "    pd.isnull(X_testNew['HeelHeight']), 1, 0)\n",
    "\n",
    "X_trainNew['IsSubtypeLabelNull'] = np.where(\n",
    "    pd.isnull(X_trainNew['SubtypeLabel']), 1, 0)\n",
    "X_testNew['IsSubtypeLabelNull'] = np.where(\n",
    "    pd.isnull(X_testNew['SubtypeLabel']), 1, 0)\n",
    "\n",
    "X_trainNew['IsRemovableSoleNull'] = np.where(\n",
    "    pd.isnull(X_trainNew['RemovableSole']), 1, 0)\n",
    "X_testNew['IsRemovableSoleNull'] = np.where(\n",
    "    pd.isnull(X_testNew['RemovableSole']), 1, 0)\n",
    "\n",
    "X_trainNew['IsDescriptionNull'] = np.where(\n",
    "    pd.isnull(X_trainNew['SizeAdviceDescription']), 1, 0)\n",
    "X_testNew['IsDescriptionNull'] = np.where(\n",
    "    pd.isnull(X_testNew['SizeAdviceDescription']), 1, 0)\n",
    "\n",
    "X_trainNew['IsMaterialNull'] = np.where(pd.isnull(X_trainNew['UpperMaterialLabel']) &\n",
    "                                        pd.isnull(X_trainNew['LiningMaterialLabel']) &\n",
    "                                        pd.isnull(X_trainNew['OutSoleMaterialLabel']), 1, 0)\n",
    "X_testNew['IsMaterialNull'] = np.where(pd.isnull(X_testNew['UpperMaterialLabel']) &\n",
    "                                       pd.isnull(X_testNew['LiningMaterialLabel']) &\n",
    "                                       pd.isnull(X_testNew['OutSoleMaterialLabel']), 1, 0)"
   ]
  },
  {
   "cell_type": "code",
   "execution_count": 0,
   "metadata": {
    "colab": {
     "autoexec": {
      "startup": false,
      "wait_interval": 0
     }
    },
    "colab_type": "code",
    "collapsed": true,
    "id": "WJZtLVtYsn5l"
   },
   "outputs": [],
   "source": [
    "X_trainNew['PriceHTRate'] = (\n",
    "    X_trainNew['PurchasePriceHT'] + 0.1) / (X_trainNew['UnitPMPEUR'] + 0.1)\n",
    "X_testNew['PriceHTRate'] = (\n",
    "    X_testNew['PurchasePriceHT'] + 0.1) / (X_testNew['UnitPMPEUR'] + 0.1)\n",
    "\n",
    "X_trainNew['IsRateHigh'] = np.where(X_trainNew['PriceHTRate'] > 1, 1, 0)\n",
    "X_trainNew.loc[pd.isnull(X_trainNew['PurchasePriceHT']), 'IsRateHigh'] = np.nan\n",
    "X_testNew['IsRateHigh'] = np.where(X_testNew['PriceHTRate'] > 1, 1, 0)\n",
    "X_testNew.loc[pd.isnull(X_testNew['PurchasePriceHT']), 'IsRateHigh'] = np.nan\n",
    "\n",
    "X_trainNew['OrderInterval'] = (\n",
    "    pd.to_datetime(X_trainNew['OrderCreationDate']) -\n",
    "    pd.to_datetime(X_trainNew['FirstOrderDate'])).astype('timedelta64[D]')\n",
    "X_testNew['OrderInterval'] = (\n",
    "    pd.to_datetime(X_testNew['OrderCreationDate']) -\n",
    "    pd.to_datetime(X_testNew['FirstOrderDate'])).astype('timedelta64[D]')\n",
    "\n",
    "X_trainNew['OrderCreationAge'] = (\n",
    "    pd.to_datetime(X_trainNew['OrderCreationDate']) -\n",
    "    pd.to_datetime(X_trainNew['BirthDate'])).astype('timedelta64[Y]')\n",
    "X_testNew['OrderCreationAge'] = (\n",
    "    pd.to_datetime(X_testNew['OrderCreationDate']) -\n",
    "    pd.to_datetime(X_testNew['BirthDate'])).astype('timedelta64[Y]')"
   ]
  },
  {
   "cell_type": "code",
   "execution_count": 0,
   "metadata": {
    "colab": {
     "autoexec": {
      "startup": false,
      "wait_interval": 0
     }
    },
    "colab_type": "code",
    "collapsed": true,
    "id": "rmYsVgsbeBlc"
   },
   "outputs": [],
   "source": [
    "X_trainNew['OrderMonth'] = pd.to_datetime(X_trainNew['OrderCreationDate']).dt.month\n",
    "X_testNew['OrderMonth'] = pd.to_datetime(X_testNew['OrderCreationDate']).dt.month\n",
    "\n",
    "X_trainNew['OrderDay'] = pd.to_datetime(X_trainNew['OrderCreationDate']).dt.day\n",
    "X_testNew['OrderDay'] = pd.to_datetime(X_testNew['OrderCreationDate']).dt.day\n",
    "\n",
    "X_trainNew['OrderHour'] = pd.to_datetime(X_trainNew['OrderCreationDate']).dt.hour\n",
    "X_testNew['OrderHour'] = pd.to_datetime(X_testNew['OrderCreationDate']).dt.hour\n",
    "\n",
    "X_trainNew['OrderWeekday'] = pd.to_datetime(X_trainNew['OrderCreationDate']).dt.weekday\n",
    "X_testNew['OrderWeekday'] = pd.to_datetime(X_testNew['OrderCreationDate']).dt.weekday"
   ]
  },
  {
   "cell_type": "code",
   "execution_count": 0,
   "metadata": {
    "colab": {
     "autoexec": {
      "startup": false,
      "wait_interval": 0
     }
    },
    "colab_type": "code",
    "collapsed": true,
    "id": "zvGM_X08sn5q"
   },
   "outputs": [],
   "source": [
    "X_trainNew.loc[(X_trainNew['OrderMonth'] > 2) & (\n",
    "    X_trainNew['OrderMonth'] < 6), 'OrderSeason'] = 'spring'\n",
    "X_trainNew.loc[(X_trainNew['OrderMonth'] > 5) & (\n",
    "    X_trainNew['OrderMonth'] < 9), 'OrderSeason'] = 'summer'\n",
    "X_trainNew.loc[(X_trainNew['OrderMonth'] > 8) & (\n",
    "    X_trainNew['OrderMonth'] < 12), 'OrderSeason'] = 'autumn'\n",
    "X_trainNew.loc[(X_trainNew['OrderMonth'] > 11) | (\n",
    "    X_trainNew['OrderMonth'] < 3), 'OrderSeason'] = 'winter'\n",
    "X_testNew.loc[(X_testNew['OrderMonth'] > 2) & (\n",
    "    X_testNew['OrderMonth'] < 6), 'OrderSeason'] = 'spring'\n",
    "X_testNew.loc[(X_testNew['OrderMonth'] > 5) & (\n",
    "    X_testNew['OrderMonth'] < 9), 'OrderSeason'] = 'summer'\n",
    "X_testNew.loc[(X_testNew['OrderMonth'] > 8) & (\n",
    "    X_testNew['OrderMonth'] < 12), 'OrderSeason'] = 'autumn'\n",
    "X_testNew.loc[(X_testNew['OrderMonth'] > 11) | (\n",
    "    X_testNew['OrderMonth'] < 3), 'OrderSeason'] = 'winter'\n",
    "\n",
    "X_trainNew.loc[X_trainNew['OrderDay'] < 11, 'OrderPeriod'] = 'first'\n",
    "X_trainNew.loc[(X_trainNew['OrderDay'] > 10) & (\n",
    "    X_trainNew['OrderDay'] < 21), 'OrderPeriod'] = 'middle'\n",
    "X_trainNew.loc[X_trainNew['OrderDay'] > 20, 'OrderPeriod'] = 'last'\n",
    "X_testNew.loc[X_testNew['OrderDay'] < 11, 'OrderPeriod'] = 'first'\n",
    "X_testNew.loc[(X_testNew['OrderDay'] > 10) & (\n",
    "    X_testNew['OrderDay'] < 21), 'OrderPeriod'] = 'middle'\n",
    "X_testNew.loc[X_testNew['OrderDay'] > 20, 'OrderPeriod'] = 'last'\n",
    "\n",
    "X_trainNew.loc[(X_trainNew['OrderHour'] < 7), 'OrderTime'] = 'night'\n",
    "X_trainNew.loc[(X_trainNew['OrderHour'] > 6) & (\n",
    "    X_trainNew['OrderHour'] < 13), 'OrderTime'] = 'morning'\n",
    "X_trainNew.loc[(X_trainNew['OrderHour'] > 12) & (\n",
    "    X_trainNew['OrderHour'] < 19), 'OrderTime'] = 'afternoon'\n",
    "X_trainNew.loc[(X_trainNew['OrderHour'] > 18), 'OrderTime'] = 'evening'\n",
    "X_testNew.loc[(X_testNew['OrderHour'] < 7), 'OrderTime'] = 'night'\n",
    "X_testNew.loc[(X_testNew['OrderHour'] > 6) & (\n",
    "    X_testNew['OrderHour'] < 13), 'OrderTime'] = 'morning'\n",
    "X_testNew.loc[(X_testNew['OrderHour'] > 12) & (\n",
    "    X_testNew['OrderHour'] < 19), 'OrderTime'] = 'afternoon'\n",
    "X_testNew.loc[(X_testNew['OrderHour'] > 18), 'OrderTime'] = 'evening'\n",
    "\n",
    "X_trainNew.loc[X_trainNew['OrderWeekday'] == 0, 'OrderDayofweek'] = 'Monday'\n",
    "X_trainNew.loc[X_trainNew['OrderWeekday'] == 1, 'OrderDayofweek'] = 'Tuesday'\n",
    "X_trainNew.loc[X_trainNew['OrderWeekday'] == 2, 'OrderDayofweek'] = 'Wednesday'\n",
    "X_trainNew.loc[X_trainNew['OrderWeekday'] == 3, 'OrderDayofweek'] = 'Thursday'\n",
    "X_trainNew.loc[X_trainNew['OrderWeekday'] == 4, 'OrderDayofweek'] = 'Friday'\n",
    "X_trainNew.loc[X_trainNew['OrderWeekday'] == 5, 'OrderDayofweek'] = 'Saturday'\n",
    "X_trainNew.loc[X_trainNew['OrderWeekday'] == 6, 'OrderDayofweek'] = 'Sunday'\n",
    "X_testNew.loc[X_testNew['OrderWeekday'] == 0, 'OrderDayofweek'] = 'Monday'\n",
    "X_testNew.loc[X_testNew['OrderWeekday'] == 1, 'OrderDayofweek'] = 'Tuesday'\n",
    "X_testNew.loc[X_testNew['OrderWeekday'] == 2, 'OrderDayofweek'] = 'Wednesday'\n",
    "X_testNew.loc[X_testNew['OrderWeekday'] == 3, 'OrderDayofweek'] = 'Thursday'\n",
    "X_testNew.loc[X_testNew['OrderWeekday'] == 4, 'OrderDayofweek'] = 'Friday'\n",
    "X_testNew.loc[X_testNew['OrderWeekday'] == 5, 'OrderDayofweek'] = 'Saturday'\n",
    "X_testNew.loc[X_testNew['OrderWeekday'] == 6, 'OrderDayofweek'] = 'Sunday'\n",
    "\n",
    "X_trainNew['IsOrderWeekend'] = np.where(X_trainNew['OrderWeekday'] > 4, 1, 0)\n",
    "X_testNew['IsOrderWeekend'] = np.where(X_testNew['OrderWeekday'] > 4, 1, 0)"
   ]
  },
  {
   "cell_type": "markdown",
   "metadata": {
    "colab_type": "text",
    "id": "qhk-Mx53uqPz"
   },
   "source": [
    "## Feature transformation"
   ]
  },
  {
   "cell_type": "code",
   "execution_count": 0,
   "metadata": {
    "colab": {
     "autoexec": {
      "startup": false,
      "wait_interval": 0
     }
    },
    "colab_type": "code",
    "collapsed": true,
    "id": "uFeuhM6C2DAg"
   },
   "outputs": [],
   "source": [
    "def funk_mask(d):\n",
    "    \" Defining a simple mask over the input data \"\n",
    "    columns_ext = [\"OrderNumber\", \"BillingPostalCode\",\n",
    "                   \"OrderCreationDate\", \"OrderShipDate\", \"BirthDate\", \"FirstOrderDate\",\n",
    "                   \"VariantId\", \"CustomerId\", \"ProductColorId\", \"ProductId\", \"BrandId\",\n",
    "                   \"OrderStatusLabel\", \"Quantity\", \"MarketTargetLabel\",\n",
    "\n",
    "                   \"PayementModeLabel\", \"IsoCode\", \"DeviceTypeLabel\", \"IsDeviceND\",\n",
    "                   \"GenderLabel\", \"UniverseLabel\", \"TypeBrand\", \"ProductType\",\n",
    "                   \"SubtypeLabel\", \"SizeAdviceDescription\", \"SupplierColor\",\n",
    "                   \"MinSize\", \"MaxSize\",\n",
    "\n",
    "                   \"CalfTurn\", \"UpperHeight\", \"CountryISOCode\",\n",
    "                   \"UpperMaterialLabel\", \"LiningMaterialLabel\", \"OutSoleMaterialLabel\",\n",
    "\n",
    "                   \"OrderTypelabel\", \"CustomerTypeLabel\", \"SeasonLabel\",\n",
    "                   \"Gender\", \"ProductSeasonLabel\", \"RemovableSole\",\n",
    "\n",
    "                   \"OrderSeason\", \"OrderPeriod\", \"OrderDayofweek\", \"OrderTime\",\n",
    "                   \"IsOrderWeekend\", \"IsRateHigh\",\n",
    "                   ]\n",
    "    X1 = d.loc[:, [xx for xx in d.columns if xx not in columns_ext]]\n",
    "    columns2bin = [x for x in X1.columns if X1[x].dtype == np.dtype('O')]\n",
    "    X2 = pd.get_dummies(X1.loc[:, columns2bin])\n",
    "    X1 = X1.loc[:, [xx for xx in X1.columns if xx not in columns2bin]]\n",
    "    res = pd.concat([X1, X2], axis=1)\n",
    "    res = res.fillna(-99)\n",
    "    return(res)"
   ]
  },
  {
   "cell_type": "code",
   "execution_count": 0,
   "metadata": {
    "colab": {
     "autoexec": {
      "startup": false,
      "wait_interval": 0
     }
    },
    "colab_type": "code",
    "collapsed": true,
    "id": "c1HoW6q22DDL"
   },
   "outputs": [],
   "source": [
    "x1 = funk_mask(X_trainNew)\n",
    "x2 = funk_mask(X_testNew)\n",
    "seleckt_columns = np.intersect1d(x1.columns, x2.columns)\n",
    "x1 = x1.loc[:, seleckt_columns]\n",
    "x2 = x2.loc[:, seleckt_columns]"
   ]
  },
  {
   "cell_type": "markdown",
   "metadata": {
    "colab_type": "text",
    "id": "0At52pgGqitx"
   },
   "source": [
    "## Supervised learning : XGBoost or LightGBM"
   ]
  },
  {
   "cell_type": "code",
   "execution_count": 0,
   "metadata": {
    "colab": {
     "autoexec": {
      "startup": false,
      "wait_interval": 0
     }
    },
    "colab_type": "code",
    "collapsed": true,
    "id": "O_WhaT6I2DIX"
   },
   "outputs": [],
   "source": [
    "#clf = XGBClassifier(n_estimators=200, max_depth=4, learning_rate=0.1, colsample_bytree=0.5)\n",
    "clf = LGBMClassifier(boosting_type='gbdt', n_estimators=100, max_depth=7, learning_rate=0.1,\n",
    "                     subsample=1, colsample_bytree=0.7, objective='binary')\n",
    "\n",
    "clf.fit(x1.iloc[600000:1060000], y_train.ReturnQuantityBin[600000:1060000])\n",
    "y_tosubmit = clf.predict_proba(x2.loc[:, x1.columns])"
   ]
  },
  {
   "cell_type": "markdown",
   "metadata": {
    "colab_type": "text",
    "id": "7Rrs1zo0u3fV"
   },
   "source": [
    "## Prediction"
   ]
  },
  {
   "cell_type": "code",
   "execution_count": 22,
   "metadata": {
    "colab": {
     "autoexec": {
      "startup": false,
      "wait_interval": 0
     },
     "base_uri": "https://localhost:8080/",
     "height": 35
    },
    "colab_type": "code",
    "executionInfo": {
     "elapsed": 550,
     "status": "ok",
     "timestamp": 1524325029113,
     "user": {
      "displayName": "Bolong ZHANG",
      "photoUrl": "https://lh3.googleusercontent.com/a/default-user=s128",
      "userId": "117614611668132440027"
     },
     "user_tz": -120
    },
    "id": "nyjb63Q22DK6",
    "outputId": "33c3822e-f08f-4a30-c9f3-f1f630e2c5b4"
   },
   "outputs": [
    {
     "data": {
      "text/plain": [
       "0.716070420445124"
      ]
     },
     "execution_count": 22,
     "metadata": {
      "tags": []
     },
     "output_type": "execute_result"
    }
   ],
   "source": [
    "yres = clf.predict_proba(x1.loc[1060001:, x1.columns])\n",
    "roc_auc_score(y_train.ReturnQuantityBin.iloc[1060001:], yres[:, 1])"
   ]
  },
  {
   "cell_type": "code",
   "execution_count": 0,
   "metadata": {
    "colab": {
     "autoexec": {
      "startup": false,
      "wait_interval": 0
     }
    },
    "colab_type": "code",
    "collapsed": true,
    "id": "-zng5X5bg4PI"
   },
   "outputs": [],
   "source": [
    "# Submission to the system\n",
    "np.savetxt('y_pred.txt', y_tosubmit[:, 1], fmt='%f')"
   ]
  },
  {
   "cell_type": "markdown",
   "metadata": {
    "colab_type": "text",
    "id": "9pPxIMsuq4fz"
   },
   "source": [
    "## Feature importances"
   ]
  },
  {
   "cell_type": "code",
   "execution_count": 24,
   "metadata": {
    "colab": {
     "autoexec": {
      "startup": false,
      "wait_interval": 0
     },
     "base_uri": "https://localhost:8080/",
     "height": 1908
    },
    "colab_type": "code",
    "executionInfo": {
     "elapsed": 573,
     "status": "ok",
     "timestamp": 1524325037197,
     "user": {
      "displayName": "Bolong ZHANG",
      "photoUrl": "https://lh3.googleusercontent.com/a/default-user=s128",
      "userId": "117614611668132440027"
     },
     "user_tz": -120
    },
    "id": "EOTEiJAfGZfH",
    "outputId": "23ebc805-d640-401e-8d8a-c03fbfc6d5b8"
   },
   "outputs": [
    {
     "data": {
      "text/plain": [
       "[(226, 'UnitPMPEUR'),\n",
       " (225, 'TotalLineItems'),\n",
       " (146, 'CReturnRate'),\n",
       " (132, 'OrderNumCustomer'),\n",
       " (131, 'COrderTimes'),\n",
       " (117, 'OrderCreationAge'),\n",
       " (113, 'PReturnRate'),\n",
       " (112, 'BReturnRate'),\n",
       " (70, 'HeelHeight'),\n",
       " (60, 'PriceHTRate'),\n",
       " (58, 'OrderHour'),\n",
       " (57, 'BOrderTimes'),\n",
       " (55, 'CReturnTimes'),\n",
       " (53, 'FirstOrderTime'),\n",
       " (52, 'POrderTimes'),\n",
       " (52, 'BReturnTimes'),\n",
       " (49, 'OrderInterval'),\n",
       " (49, 'Country_NL'),\n",
       " (48, 'PurchasePriceHT'),\n",
       " (47, 'IsOnSale'),\n",
       " (45, 'OrderMonth'),\n",
       " (44, 'ShoesSizeMin'),\n",
       " (42, 'Country_DE'),\n",
       " (40, 'PayementMode_Gratuit'),\n",
       " (40, 'OrderDay'),\n",
       " (38, 'Country_FR'),\n",
       " (36, 'Country_IT'),\n",
       " (33, 'LineItem'),\n",
       " (32, 'IsMale'),\n",
       " (32, 'FirstOrderHour'),\n",
       " (31, 'PCReturnRate'),\n",
       " (31, 'Country_GB'),\n",
       " (30, 'PReturnTimes'),\n",
       " (30, 'FirstOrderDay'),\n",
       " (29, 'ShoesSizeMax'),\n",
       " (27, 'Description_size small'),\n",
       " (25, 'OrderWeekday'),\n",
       " (23, 'TypeProduct_Escarpins'),\n",
       " (23, 'PCReturnTimes'),\n",
       " (23, 'PCOrderTimes'),\n",
       " (21, 'TypeProduct_Other'),\n",
       " (21, 'PricingTypeLabel_Promo Avec CP'),\n",
       " (21, 'PayementMode_PayPal'),\n",
       " (21, 'Description_size normal'),\n",
       " (20, 'ProductGender_Femme'),\n",
       " (20, 'FirstOrderMonth'),\n",
       " (19, 'TypeProduct_Baskets'),\n",
       " (18, 'TypeProduct_Bottes'),\n",
       " (17, 'VReturnRate'),\n",
       " (17, 'TypeProduct_Tongs'),\n",
       " (15, 'PricingTypeLabel_Plein Tarif'),\n",
       " (15, 'IsOrderDirect'),\n",
       " (14, 'PayementMode_Other'),\n",
       " (14, 'IsRemovableSole'),\n",
       " (12, 'VOrderTimes'),\n",
       " (12, 'TypeProduct_Sandales et nu-pieds'),\n",
       " (12, 'ProductGender_Not shoes'),\n",
       " (12, 'Description_size large'),\n",
       " (11, 'ProductGender_Enfant'),\n",
       " (11, 'FirstOrderWeekday'),\n",
       " (10, 'TypeProduct_Ballerines'),\n",
       " (10, 'ProductGender_Homme'),\n",
       " (10, 'IsSubtypeLabelNull'),\n",
       " (10, 'Country_ES'),\n",
       " (9, 'Subtype_Other'),\n",
       " (8, 'BrandUniverse_D\\xc3\\x83\\xc2\\xa9tente'),\n",
       " (7, 'TypeProduct_Chaussures de sport'),\n",
       " (7, 'Subtype_Bout rond'),\n",
       " (7, 'PayementMode_iDeal'),\n",
       " (7, 'IsBlack'),\n",
       " (6, 'PayementMode_Carte bancaire'),\n",
       " (6, 'IsNouveau'),\n",
       " (6, 'DeviceType_Handheld'),\n",
       " (5, 'Subtype_Basses'),\n",
       " (5, 'IsProductSeasonAH'),\n",
       " (5, 'BrandUniverse_Other'),\n",
       " (4, 'VReturnTimes'),\n",
       " (4, 'IsSeasonAH'),\n",
       " (4, 'Country_Other'),\n",
       " (4, 'BrandType_Luxe'),\n",
       " (3, 'SeasonalityLabel_Reconduit'),\n",
       " (3, 'PricingTypeLabel_Soldes'),\n",
       " (3, 'IsCalfTurnNull'),\n",
       " (3, 'DeviceType_Desktop'),\n",
       " (3, 'Country_BE'),\n",
       " (3, 'BrandUniverse_Ville'),\n",
       " (3, 'BrandType_Standard'),\n",
       " (2, 'TypeProduct_Bottines et boots'),\n",
       " (2, 'PricingTypeLabel_Promo Sans CP'),\n",
       " (2, 'PayementMode_BankTransfer_DE'),\n",
       " (2, 'BrandUniverse_ND'),\n",
       " (1, 'TypeProduct_Mocassins'),\n",
       " (1, 'SeasonalityLabel_Saisonnier'),\n",
       " (1, 'SeasonalityLabel_Permanent'),\n",
       " (1, 'PricingTypeLabel_Vente Priv\\xc3\\xa9e'),\n",
       " (1, 'IsUpperHeightNull'),\n",
       " (1, 'IsRemovableSoleNull'),\n",
       " (1, 'IsDescriptionNull'),\n",
       " (1, 'DeviceType_ND'),\n",
       " (0, 'IsProductNull'),\n",
       " (0, 'IsNewCollection'),\n",
       " (0, 'IsMaterialNull'),\n",
       " (0, 'IsHeelHeightNull'),\n",
       " (0, 'IsCustomerNull')]"
      ]
     },
     "execution_count": 24,
     "metadata": {
      "tags": []
     },
     "output_type": "execute_result"
    }
   ],
   "source": [
    "importances = list(zip(clf.feature_importances_, x1.columns))\n",
    "importances.sort(reverse=True)\n",
    "importances"
   ]
  },
  {
   "cell_type": "code",
   "execution_count": 0,
   "metadata": {
    "colab": {
     "autoexec": {
      "startup": false,
      "wait_interval": 0
     }
    },
    "colab_type": "code",
    "collapsed": true,
    "id": "i7bSuGNNf97c"
   },
   "outputs": [],
   "source": []
  }
 ],
 "metadata": {
  "accelerator": "GPU",
  "colab": {
   "collapsed_sections": [],
   "default_view": {},
   "name": "SD210_Challenge_Forecast.ipynb",
   "provenance": [],
   "version": "0.3.2",
   "views": {}
  },
  "kernelspec": {
   "display_name": "Python 3",
   "language": "python",
   "name": "python3"
  },
  "language_info": {
   "codemirror_mode": {
    "name": "ipython",
    "version": 3
   },
   "file_extension": ".py",
   "mimetype": "text/x-python",
   "name": "python",
   "nbconvert_exporter": "python",
   "pygments_lexer": "ipython3",
   "version": "3.6.7"
  }
 },
 "nbformat": 4,
 "nbformat_minor": 1
}
